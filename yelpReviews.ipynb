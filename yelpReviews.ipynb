{
  "nbformat": 4,
  "nbformat_minor": 0,
  "metadata": {
    "colab": {
      "provenance": [],
      "authorship_tag": "ABX9TyPR05ir6z2HFYLPAIw9Q23g",
      "include_colab_link": true
    },
    "kernelspec": {
      "name": "python3",
      "display_name": "Python 3"
    },
    "language_info": {
      "name": "python"
    },
    "accelerator": "TPU"
  },
  "cells": [
    {
      "cell_type": "markdown",
      "metadata": {
        "id": "view-in-github",
        "colab_type": "text"
      },
      "source": [
        "<a href=\"https://colab.research.google.com/github/dkdevAI/AI-Hub/blob/main/yelpReviews.ipynb\" target=\"_parent\"><img src=\"https://colab.research.google.com/assets/colab-badge.svg\" alt=\"Open In Colab\"/></a>"
      ]
    },
    {
      "cell_type": "code",
      "source": [
        "URL = \"https://www.yelp.com/biz/sea-by-thai-glen-allen\""
      ],
      "metadata": {
        "id": "Axv159uk1Gw-"
      },
      "execution_count": 48,
      "outputs": []
    },
    {
      "cell_type": "markdown",
      "source": [
        "# CODE"
      ],
      "metadata": {
        "id": "0gnMBrNG0yj-"
      }
    },
    {
      "cell_type": "markdown",
      "source": [
        "## Install and import dependencies"
      ],
      "metadata": {
        "id": "M9wLTi6ztQz9"
      }
    },
    {
      "cell_type": "code",
      "source": [
        "%pip install torch torchvision torchaudio --index-url https://download.pytorch.org/whl/cpu"
      ],
      "metadata": {
        "colab": {
          "base_uri": "https://localhost:8080/"
        },
        "id": "iUiQFwEpuNRV",
        "outputId": "5f96ab6a-c701-4c68-b101-d3ada7dfe135"
      },
      "execution_count": 49,
      "outputs": [
        {
          "output_type": "stream",
          "name": "stdout",
          "text": [
            "Looking in indexes: https://download.pytorch.org/whl/cpu\n",
            "Requirement already satisfied: torch in /usr/local/lib/python3.10/dist-packages (2.0.1+cu118)\n",
            "Requirement already satisfied: torchvision in /usr/local/lib/python3.10/dist-packages (0.15.2+cu118)\n",
            "Requirement already satisfied: torchaudio in /usr/local/lib/python3.10/dist-packages (2.0.2+cu118)\n",
            "Requirement already satisfied: filelock in /usr/local/lib/python3.10/dist-packages (from torch) (3.12.2)\n",
            "Requirement already satisfied: typing-extensions in /usr/local/lib/python3.10/dist-packages (from torch) (4.7.1)\n",
            "Requirement already satisfied: sympy in /usr/local/lib/python3.10/dist-packages (from torch) (1.11.1)\n",
            "Requirement already satisfied: networkx in /usr/local/lib/python3.10/dist-packages (from torch) (3.1)\n",
            "Requirement already satisfied: jinja2 in /usr/local/lib/python3.10/dist-packages (from torch) (3.1.2)\n",
            "Requirement already satisfied: triton==2.0.0 in /usr/local/lib/python3.10/dist-packages (from torch) (2.0.0)\n",
            "Requirement already satisfied: cmake in /usr/local/lib/python3.10/dist-packages (from triton==2.0.0->torch) (3.25.2)\n",
            "Requirement already satisfied: lit in /usr/local/lib/python3.10/dist-packages (from triton==2.0.0->torch) (16.0.6)\n",
            "Requirement already satisfied: numpy in /usr/local/lib/python3.10/dist-packages (from torchvision) (1.25.1)\n",
            "Requirement already satisfied: requests in /usr/local/lib/python3.10/dist-packages (from torchvision) (2.27.1)\n",
            "Requirement already satisfied: pillow!=8.3.*,>=5.3.0 in /usr/local/lib/python3.10/dist-packages (from torchvision) (9.4.0)\n",
            "Requirement already satisfied: MarkupSafe>=2.0 in /usr/local/lib/python3.10/dist-packages (from jinja2->torch) (2.1.3)\n",
            "Requirement already satisfied: urllib3<1.27,>=1.21.1 in /usr/local/lib/python3.10/dist-packages (from requests->torchvision) (1.26.16)\n",
            "Requirement already satisfied: certifi>=2017.4.17 in /usr/local/lib/python3.10/dist-packages (from requests->torchvision) (2023.7.22)\n",
            "Requirement already satisfied: charset-normalizer~=2.0.0 in /usr/local/lib/python3.10/dist-packages (from requests->torchvision) (2.0.12)\n",
            "Requirement already satisfied: idna<4,>=2.5 in /usr/local/lib/python3.10/dist-packages (from requests->torchvision) (3.4)\n",
            "Requirement already satisfied: mpmath>=0.19 in /usr/local/lib/python3.10/dist-packages (from sympy->torch) (1.3.0)\n"
          ]
        }
      ]
    },
    {
      "cell_type": "code",
      "source": [
        "!pip install transformers requests beautifulsoup4 pandas numpy"
      ],
      "metadata": {
        "colab": {
          "base_uri": "https://localhost:8080/"
        },
        "id": "Dgzj0Bq-unDz",
        "outputId": "04a2bae2-fba1-4d27-c570-e2b36d14d19a"
      },
      "execution_count": 50,
      "outputs": [
        {
          "output_type": "stream",
          "name": "stdout",
          "text": [
            "Requirement already satisfied: transformers in /usr/local/lib/python3.10/dist-packages (4.31.0)\n",
            "Requirement already satisfied: requests in /usr/local/lib/python3.10/dist-packages (2.27.1)\n",
            "Requirement already satisfied: beautifulsoup4 in /usr/local/lib/python3.10/dist-packages (4.11.2)\n",
            "Requirement already satisfied: pandas in /usr/local/lib/python3.10/dist-packages (1.5.3)\n",
            "Requirement already satisfied: numpy in /usr/local/lib/python3.10/dist-packages (1.25.1)\n",
            "Requirement already satisfied: filelock in /usr/local/lib/python3.10/dist-packages (from transformers) (3.12.2)\n",
            "Requirement already satisfied: huggingface-hub<1.0,>=0.14.1 in /usr/local/lib/python3.10/dist-packages (from transformers) (0.16.4)\n",
            "Requirement already satisfied: packaging>=20.0 in /usr/local/lib/python3.10/dist-packages (from transformers) (23.1)\n",
            "Requirement already satisfied: pyyaml>=5.1 in /usr/local/lib/python3.10/dist-packages (from transformers) (6.0.1)\n",
            "Requirement already satisfied: regex!=2019.12.17 in /usr/local/lib/python3.10/dist-packages (from transformers) (2022.10.31)\n",
            "Requirement already satisfied: tokenizers!=0.11.3,<0.14,>=0.11.1 in /usr/local/lib/python3.10/dist-packages (from transformers) (0.13.3)\n",
            "Requirement already satisfied: safetensors>=0.3.1 in /usr/local/lib/python3.10/dist-packages (from transformers) (0.3.1)\n",
            "Requirement already satisfied: tqdm>=4.27 in /usr/local/lib/python3.10/dist-packages (from transformers) (4.65.0)\n",
            "Requirement already satisfied: urllib3<1.27,>=1.21.1 in /usr/local/lib/python3.10/dist-packages (from requests) (1.26.16)\n",
            "Requirement already satisfied: certifi>=2017.4.17 in /usr/local/lib/python3.10/dist-packages (from requests) (2023.7.22)\n",
            "Requirement already satisfied: charset-normalizer~=2.0.0 in /usr/local/lib/python3.10/dist-packages (from requests) (2.0.12)\n",
            "Requirement already satisfied: idna<4,>=2.5 in /usr/local/lib/python3.10/dist-packages (from requests) (3.4)\n",
            "Requirement already satisfied: soupsieve>1.2 in /usr/local/lib/python3.10/dist-packages (from beautifulsoup4) (2.4.1)\n",
            "Requirement already satisfied: python-dateutil>=2.8.1 in /usr/local/lib/python3.10/dist-packages (from pandas) (2.8.2)\n",
            "Requirement already satisfied: pytz>=2020.1 in /usr/local/lib/python3.10/dist-packages (from pandas) (2022.7.1)\n",
            "Requirement already satisfied: fsspec in /usr/local/lib/python3.10/dist-packages (from huggingface-hub<1.0,>=0.14.1->transformers) (2023.6.0)\n",
            "Requirement already satisfied: typing-extensions>=3.7.4.3 in /usr/local/lib/python3.10/dist-packages (from huggingface-hub<1.0,>=0.14.1->transformers) (4.7.1)\n",
            "Requirement already satisfied: six>=1.5 in /usr/local/lib/python3.10/dist-packages (from python-dateutil>=2.8.1->pandas) (1.16.0)\n"
          ]
        }
      ]
    },
    {
      "cell_type": "code",
      "source": [
        "from transformers import AutoTokenizer, AutoModelForSequenceClassification\n",
        "import torch\n",
        "import requests\n",
        "from bs4 import BeautifulSoup\n",
        "import re"
      ],
      "metadata": {
        "id": "QYSo6e8WvI8J"
      },
      "execution_count": 51,
      "outputs": []
    },
    {
      "cell_type": "markdown",
      "source": [
        "## Instantiate model"
      ],
      "metadata": {
        "id": "uXlj3Jl4tVGG"
      }
    },
    {
      "cell_type": "code",
      "source": [
        "tokenizer = AutoTokenizer.from_pretrained(\"nlptown/bert-base-multilingual-uncased-sentiment\")\n",
        "\n",
        "model = AutoModelForSequenceClassification.from_pretrained(\"nlptown/bert-base-multilingual-uncased-sentiment\")"
      ],
      "metadata": {
        "id": "mnSrI6G0vF9z"
      },
      "execution_count": 52,
      "outputs": []
    },
    {
      "cell_type": "markdown",
      "source": [
        "## Encode and calculate sentiment"
      ],
      "metadata": {
        "id": "Fd_zR6VJtZQt"
      }
    },
    {
      "cell_type": "code",
      "source": [
        "tokens = tokenizer.encode(\"fuck this shit. It was great\", return_tensors=\"pt\")"
      ],
      "metadata": {
        "id": "qNoYvPs9wJ7n"
      },
      "execution_count": 53,
      "outputs": []
    },
    {
      "cell_type": "code",
      "source": [
        "result = model(tokens)"
      ],
      "metadata": {
        "id": "fDUe9rGLwmLN"
      },
      "execution_count": 54,
      "outputs": []
    },
    {
      "cell_type": "code",
      "source": [
        "int(torch.argmax(result.logits))+1"
      ],
      "metadata": {
        "colab": {
          "base_uri": "https://localhost:8080/"
        },
        "id": "3ifQJ-Riw9Rb",
        "outputId": "b89a230c-aa60-4f1d-9629-59b697e14032"
      },
      "execution_count": 55,
      "outputs": [
        {
          "output_type": "execute_result",
          "data": {
            "text/plain": [
              "1"
            ]
          },
          "metadata": {},
          "execution_count": 55
        }
      ]
    },
    {
      "cell_type": "markdown",
      "source": [
        "## Collect Reviews"
      ],
      "metadata": {
        "id": "mrwTNXACtbux"
      }
    },
    {
      "cell_type": "code",
      "source": [
        "r = requests.get(URL)\n",
        "soup = BeautifulSoup(r.text, \"html.parser\")\n",
        "regex = re.compile(\".*comment.*\")\n",
        "results = soup.find_all(\"p\", {\"class\": regex})\n",
        "reviews = [result.text for result in results]"
      ],
      "metadata": {
        "id": "qEVLgZe-xsMV"
      },
      "execution_count": 56,
      "outputs": []
    },
    {
      "cell_type": "code",
      "source": [
        "results"
      ],
      "metadata": {
        "colab": {
          "base_uri": "https://localhost:8080/"
        },
        "id": "-38V9x25yKDq",
        "outputId": "fac2e6c7-ea14-4dd0-fe16-f763ff2d5088"
      },
      "execution_count": 57,
      "outputs": [
        {
          "output_type": "execute_result",
          "data": {
            "text/plain": [
              "[<p class=\"comment__09f24__D0cxf css-qgunke\"><span class=\"raw__09f24__T4Ezm\" lang=\"en\">Amazing food with amazing customer service! The best Thai food I've had here in RVA/Short Pump!<br/><br/>11/10 recommend coming here!! My family loves it here! We always get seated quickly!</span></p>,\n",
              " <p class=\"comment__09f24__D0cxf css-qgunke\"><span class=\"raw__09f24__T4Ezm\" lang=\"en\">Good calamari <br/>Excellent comb pad Thai <br/>Good fulfilling portions as well<br/>Picked up within 25mins of ordering</span></p>,\n",
              " <p class=\"comment__09f24__D0cxf css-qgunke\"><span class=\"raw__09f24__T4Ezm\" lang=\"en\">Came here for the first time with a large group of family and friends last night and had a nice experience.<br/><br/>Pros:<br/>- large food and drink selection. loved that there were so many cocktail options<br/>- food and portions were good! Everyone got a variety of noodles, soup, and rice and loved their dish!<br/>- garage parking nearby<br/>- no complaints about the service<br/><br/>Cons:<br/>- The menu layout is very confusing. I was looking for Pad See Ew but it wasn't on the \"Noodle-Fried Rice\" section ... it was at the bottom of a random page that had separate lunch vs. dinner prices. Also, why are noodles and rice mixed in together? They also have a secret menu that really looks like their specialty dishes and might as well be on the first page instead if they are the highlights of the menu<br/>- I was confused why mango puree was used for the mango martini but couldn't be added to the mojito <br/><br/>And FYIs<br/>- their spicy levels are serious lol. Even 1 pepper has a little kick to it<br/>- Atmosphere is like modern casual. Not necessarily someplace I would go for a nice occasion but a more informal sit down with friends<br/><br/>Overall, I would recommend and come back!</span></p>,\n",
              " <p class=\"comment__09f24__D0cxf css-qgunke\"><span class=\"raw__09f24__T4Ezm\" lang=\"en\">I don't get to eat Thai food as much as I would like to, so when I can find Thai restaurant that looks good, I'm in.   I found Sea by Thai and it was close by.    I always judge my food by my favorites and for Thai, it's Chicken Satay and Penang Curry with chicken.   <br/><br/>The restaurant is very in assuming and it was a good sized location.  This day, it wasn't that busy, but hey good for me.   Service was pretty good.  <br/><br/>In terms of the food, the ChIcken Satay was a little overdone.    Also the sauce could have been a little sweeter.   I did enjoy the Penang Curry.  Good portion amount, good flavor.    <br/><br/>The experience was ok.</span></p>,\n",
              " <p class=\"comment__09f24__D0cxf css-qgunke\"><span class=\"raw__09f24__T4Ezm\" lang=\"en\">Solid and consistent Thai food in Short Pump. I order take out from them fairly often, whether it's pad se ew, pad thai, drunken noodles, or any of their curries, it's always good! I am partial to their curry puffs and I like to get their Thai iced tea. Parking can be a bit tricky depending on the time of day, but you can always try the garage.</span></p>,\n",
              " <p class=\"comment__09f24__D0cxf css-qgunke\"><span class=\"raw__09f24__T4Ezm\" lang=\"en\">I hate that I have to leave a negative review because I really like their food and have been coming here since they opened. As of late I've noticed a lot burnt black particles in my food which is coming from the pot they are using. Those burnt particles and charred food are known to contribute to cancer. I'm pretty sure they are not using bpa or pfa free pots for the benefit of customers. I wish their food didn't have those black particles, I don't know why I saw so many, I had to throw away the pad Thai. Please be careful and don't consume burnt particles.</span></p>,\n",
              " <p class=\"comment__09f24__D0cxf css-qgunke\"><span class=\"raw__09f24__T4Ezm\" lang=\"en\">Sea By Thai Ratings: 4.2/5<br/><br/>Food: 4.5/5 - This is my second time eating at this restaurant, and I took my siblings and friends here for dinner. I decided to try something new and got their Panang Curry, and it turns out to be the best dish of the night. Please see the descriptions below of some of the dishes we got. <br/><br/>- Panang Curry [GET]: The Panang curry is a peanut based sauce with coconut milk and basil. It is creamy, rich, and subtle on the peanut flavor, yet still gives you that bold kick of all the spices and flavors from the curry itself. It is hella delicious and wonderful. I got chicken as my protein, and it was tender, juicy, and moist. The veggies in the bowl was fresh. I literally dumped the entire bowl of rice into the curry, and enjoyed every bite of it. I love it. <br/><br/>- Drunken Spaghetti [GET]: My cousin got the spaghetti dish with minced chicken, shrimp, pepper and onion in a chili and basil based sauce. There's a decent amount of protein and the noodles were cooked just right. It is quite spicy though, so if you cannot handle spicy food, then this is not the dish for you. The only downfall was that it's too oily, made it a little hard to finish the entire plate and heavy. <br/><br/>- Chef's Secret Menu [GET]: My siblings both got the cellphone noodles dish stir fry with shrimp and squid with egg, carrots, onions, and scallions. Seafood was great, frest, and pretty good size too. The noodles are cooked perfectly, and the scramble eggs added a good toasty flavor to the dish. The only downside was that it was a bit bland, so a pinch of salt and pepper will make a big difference. I would say if you like seafood and cellphone noodles, then give this dish a try. <br/><br/>Ambiance: 4.25/5 - Sea By Thai is located in the same shopping center as Whole Foods. The interior seating is nice, clean, bright, and spacious. There's cute circular booths and interesting hanging light bulbs as decor. They also got a full cocktail bar too in the center of the restaurant. The restaurant is not loud, so a perfect place for a date. <br/><br/>Price: 4/5 - Pretty average prices across the menu compared to all the Thai places in RVA. All dishes ranges from $15 to $25 depending on what you order. The portion is great and large, and we definitely feel full after our meal, so I think it is worth it. <br/><br/>Service: 4/5 - The service is great and staffs are friendly. The host seated us as soon as we sat down, and our staff brought us water. They are prompt at taking orders and the food came out fairly quick. The only thing I will say is service is a tad slow, took them a while to come by to take our orders and get our credit cards, but understandable due to COVID. <br/><br/>BLUF: Sea By Thai has the tastiest Panang Curry I have tried. If you are a Thai curry lover, I 100% would recommend this place. No hesitation on returning to get their curry anytime in the near future.</span></p>,\n",
              " <p class=\"comment__09f24__D0cxf css-qgunke\"><span class=\"raw__09f24__T4Ezm\" lang=\"en\">Giving this restaurant three stars because the servers were kind, but the food wasn't that great. <br/><br/>The service was a tad slow, but it's understandable given COVID times. Some people were waiting a while to be greeted and taken to a table, while others were waiting some time to have their orders taken. <br/><br/>We started off with the Chicken Satay. The chicken was overcooked and dry, but the sauce was good. I ordered the Pad Thai Combo, and it was subpar. <br/><br/>My mom got the Spicy Eggplant dish, and it was alright. No major complaints but no high praise. Our server didn't stop by too often to check up on us, but that's fine since we didn't need assistance after putting our orders in and receiving our food. <br/><br/>Overall, I would give this place another try.</span></p>,\n",
              " <p class=\"comment__09f24__D0cxf css-qgunke\"><span class=\"raw__09f24__T4Ezm\" lang=\"en\">Short review:<br/>The good: pretty neat and bright restaurant. Food was pretty good too everything was piping hot, ask for the hot seasoning, game changer. <br/>The not so good: decent customer service as a whole, a few concerns as they were closing while we were trying to close out our tab. Our waiter was super attentive though. I've had better Thai but we may go back in the future.</span></p>,\n",
              " <p class=\"comment__09f24__D0cxf css-qgunke\"><span class=\"raw__09f24__T4Ezm\" lang=\"en\">A little bit of the Christmas story feel going on here At Christmas time ! Food was good and reasonable! Lunch on a Thursday and no body here ! Server and host excellent! I had yellow curry with pork and they accommodated me with shrimp!! My bride had pad Thai with shrimp! She also enjoyed! Noodles were sweet! Options on beverages were limited to more Asian theme , which was fine! Nice menu , can be a bit overwhelming!</span></p>]"
            ]
          },
          "metadata": {},
          "execution_count": 57
        }
      ]
    },
    {
      "cell_type": "markdown",
      "source": [
        "## Load Reviews in Dataframe and Score"
      ],
      "metadata": {
        "id": "JotMa7C7tdTR"
      }
    },
    {
      "cell_type": "code",
      "source": [
        "import numpy as np\n",
        "import pandas as pd\n",
        "df = pd.DataFrame(np.array(reviews), columns=[\"review\"])"
      ],
      "metadata": {
        "id": "hxw1rbIBzIxM"
      },
      "execution_count": 58,
      "outputs": []
    },
    {
      "cell_type": "code",
      "source": [
        "df[\"review\"].iloc[0]"
      ],
      "metadata": {
        "colab": {
          "base_uri": "https://localhost:8080/",
          "height": 52
        },
        "id": "eT3bXgbszpUm",
        "outputId": "00c2a2c7-2682-4ab6-b9e7-41d90e02c988"
      },
      "execution_count": 59,
      "outputs": [
        {
          "output_type": "execute_result",
          "data": {
            "text/plain": [
              "\"Amazing food with amazing customer service! The best Thai food I've had here in RVA/Short Pump!11/10 recommend coming here!! My family loves it here! We always get seated quickly!\""
            ],
            "application/vnd.google.colaboratory.intrinsic+json": {
              "type": "string"
            }
          },
          "metadata": {},
          "execution_count": 59
        }
      ]
    },
    {
      "cell_type": "code",
      "source": [
        "def sentiment_score(review):\n",
        "  tokens = tokenizer.encode(review, return_tensors=\"pt\")\n",
        "  result = model(tokens)\n",
        "  return int(torch.argmax(result.logits))+1"
      ],
      "metadata": {
        "id": "szsW42WwzUIT"
      },
      "execution_count": 60,
      "outputs": []
    },
    {
      "cell_type": "code",
      "source": [
        "sentiment_score(df[\"review\"].iloc[1])"
      ],
      "metadata": {
        "colab": {
          "base_uri": "https://localhost:8080/"
        },
        "id": "c9tDhnyTz8wT",
        "outputId": "0765d226-0ca2-4cf4-c1eb-9443c18d8007"
      },
      "execution_count": 61,
      "outputs": [
        {
          "output_type": "execute_result",
          "data": {
            "text/plain": [
              "5"
            ]
          },
          "metadata": {},
          "execution_count": 61
        }
      ]
    },
    {
      "cell_type": "code",
      "source": [
        "df[\"sentiment\"] = df[\"review\"].apply(lambda x:sentiment_score(x[:512]))"
      ],
      "metadata": {
        "id": "SpbObgfW0A8i"
      },
      "execution_count": 62,
      "outputs": []
    },
    {
      "cell_type": "code",
      "source": [
        "df[\"review\"]"
      ],
      "metadata": {
        "colab": {
          "base_uri": "https://localhost:8080/"
        },
        "id": "QUepwRIj0KdJ",
        "outputId": "9ab2b0a6-9bfb-4c4d-db6b-f17e7caf035b"
      },
      "execution_count": 63,
      "outputs": [
        {
          "output_type": "execute_result",
          "data": {
            "text/plain": [
              "0    Amazing food with amazing customer service! Th...\n",
              "1    Good calamari Excellent comb pad Thai Good ful...\n",
              "2    Came here for the first time with a large grou...\n",
              "3    I don't get to eat Thai food as much as I woul...\n",
              "4    Solid and consistent Thai food in Short Pump. ...\n",
              "5    I hate that I have to leave a negative review ...\n",
              "6    Sea By Thai Ratings: 4.2/5Food: 4.5/5 - This i...\n",
              "7    Giving this restaurant three stars because the...\n",
              "8    Short review:The good: pretty neat and bright ...\n",
              "9    A little bit of the Christmas story feel going...\n",
              "Name: review, dtype: object"
            ]
          },
          "metadata": {},
          "execution_count": 63
        }
      ]
    },
    {
      "cell_type": "code",
      "source": [],
      "metadata": {
        "id": "_Ib4TAmE1O6_"
      },
      "execution_count": 63,
      "outputs": []
    },
    {
      "cell_type": "markdown",
      "source": [
        "# Inference"
      ],
      "metadata": {
        "id": "Ixg13Rgi1Rdv"
      }
    },
    {
      "cell_type": "code",
      "source": [
        "df"
      ],
      "metadata": {
        "colab": {
          "base_uri": "https://localhost:8080/",
          "height": 359
        },
        "id": "Zr3pDzew1ZoM",
        "outputId": "28eef6a3-c55a-463c-bbb4-e399deafaee1"
      },
      "execution_count": 64,
      "outputs": [
        {
          "output_type": "execute_result",
          "data": {
            "text/plain": [
              "                                              review  sentiment\n",
              "0  Amazing food with amazing customer service! Th...          5\n",
              "1  Good calamari Excellent comb pad Thai Good ful...          5\n",
              "2  Came here for the first time with a large grou...          2\n",
              "3  I don't get to eat Thai food as much as I woul...          4\n",
              "4  Solid and consistent Thai food in Short Pump. ...          4\n",
              "5  I hate that I have to leave a negative review ...          2\n",
              "6  Sea By Thai Ratings: 4.2/5Food: 4.5/5 - This i...          4\n",
              "7  Giving this restaurant three stars because the...          3\n",
              "8  Short review:The good: pretty neat and bright ...          3\n",
              "9  A little bit of the Christmas story feel going...          4"
            ],
            "text/html": [
              "\n",
              "\n",
              "  <div id=\"df-fa0cc901-b109-44c0-8502-deb3dc6ef6b9\">\n",
              "    <div class=\"colab-df-container\">\n",
              "      <div>\n",
              "<style scoped>\n",
              "    .dataframe tbody tr th:only-of-type {\n",
              "        vertical-align: middle;\n",
              "    }\n",
              "\n",
              "    .dataframe tbody tr th {\n",
              "        vertical-align: top;\n",
              "    }\n",
              "\n",
              "    .dataframe thead th {\n",
              "        text-align: right;\n",
              "    }\n",
              "</style>\n",
              "<table border=\"1\" class=\"dataframe\">\n",
              "  <thead>\n",
              "    <tr style=\"text-align: right;\">\n",
              "      <th></th>\n",
              "      <th>review</th>\n",
              "      <th>sentiment</th>\n",
              "    </tr>\n",
              "  </thead>\n",
              "  <tbody>\n",
              "    <tr>\n",
              "      <th>0</th>\n",
              "      <td>Amazing food with amazing customer service! Th...</td>\n",
              "      <td>5</td>\n",
              "    </tr>\n",
              "    <tr>\n",
              "      <th>1</th>\n",
              "      <td>Good calamari Excellent comb pad Thai Good ful...</td>\n",
              "      <td>5</td>\n",
              "    </tr>\n",
              "    <tr>\n",
              "      <th>2</th>\n",
              "      <td>Came here for the first time with a large grou...</td>\n",
              "      <td>2</td>\n",
              "    </tr>\n",
              "    <tr>\n",
              "      <th>3</th>\n",
              "      <td>I don't get to eat Thai food as much as I woul...</td>\n",
              "      <td>4</td>\n",
              "    </tr>\n",
              "    <tr>\n",
              "      <th>4</th>\n",
              "      <td>Solid and consistent Thai food in Short Pump. ...</td>\n",
              "      <td>4</td>\n",
              "    </tr>\n",
              "    <tr>\n",
              "      <th>5</th>\n",
              "      <td>I hate that I have to leave a negative review ...</td>\n",
              "      <td>2</td>\n",
              "    </tr>\n",
              "    <tr>\n",
              "      <th>6</th>\n",
              "      <td>Sea By Thai Ratings: 4.2/5Food: 4.5/5 - This i...</td>\n",
              "      <td>4</td>\n",
              "    </tr>\n",
              "    <tr>\n",
              "      <th>7</th>\n",
              "      <td>Giving this restaurant three stars because the...</td>\n",
              "      <td>3</td>\n",
              "    </tr>\n",
              "    <tr>\n",
              "      <th>8</th>\n",
              "      <td>Short review:The good: pretty neat and bright ...</td>\n",
              "      <td>3</td>\n",
              "    </tr>\n",
              "    <tr>\n",
              "      <th>9</th>\n",
              "      <td>A little bit of the Christmas story feel going...</td>\n",
              "      <td>4</td>\n",
              "    </tr>\n",
              "  </tbody>\n",
              "</table>\n",
              "</div>\n",
              "      <button class=\"colab-df-convert\" onclick=\"convertToInteractive('df-fa0cc901-b109-44c0-8502-deb3dc6ef6b9')\"\n",
              "              title=\"Convert this dataframe to an interactive table.\"\n",
              "              style=\"display:none;\">\n",
              "\n",
              "  <svg xmlns=\"http://www.w3.org/2000/svg\" height=\"24px\"viewBox=\"0 0 24 24\"\n",
              "       width=\"24px\">\n",
              "    <path d=\"M0 0h24v24H0V0z\" fill=\"none\"/>\n",
              "    <path d=\"M18.56 5.44l.94 2.06.94-2.06 2.06-.94-2.06-.94-.94-2.06-.94 2.06-2.06.94zm-11 1L8.5 8.5l.94-2.06 2.06-.94-2.06-.94L8.5 2.5l-.94 2.06-2.06.94zm10 10l.94 2.06.94-2.06 2.06-.94-2.06-.94-.94-2.06-.94 2.06-2.06.94z\"/><path d=\"M17.41 7.96l-1.37-1.37c-.4-.4-.92-.59-1.43-.59-.52 0-1.04.2-1.43.59L10.3 9.45l-7.72 7.72c-.78.78-.78 2.05 0 2.83L4 21.41c.39.39.9.59 1.41.59.51 0 1.02-.2 1.41-.59l7.78-7.78 2.81-2.81c.8-.78.8-2.07 0-2.86zM5.41 20L4 18.59l7.72-7.72 1.47 1.35L5.41 20z\"/>\n",
              "  </svg>\n",
              "      </button>\n",
              "\n",
              "\n",
              "\n",
              "    <div id=\"df-2c7caeb3-e313-489e-93dc-446450219a89\">\n",
              "      <button class=\"colab-df-quickchart\" onclick=\"quickchart('df-2c7caeb3-e313-489e-93dc-446450219a89')\"\n",
              "              title=\"Suggest charts.\"\n",
              "              style=\"display:none;\">\n",
              "\n",
              "<svg xmlns=\"http://www.w3.org/2000/svg\" height=\"24px\"viewBox=\"0 0 24 24\"\n",
              "     width=\"24px\">\n",
              "    <g>\n",
              "        <path d=\"M19 3H5c-1.1 0-2 .9-2 2v14c0 1.1.9 2 2 2h14c1.1 0 2-.9 2-2V5c0-1.1-.9-2-2-2zM9 17H7v-7h2v7zm4 0h-2V7h2v10zm4 0h-2v-4h2v4z\"/>\n",
              "    </g>\n",
              "</svg>\n",
              "      </button>\n",
              "    </div>\n",
              "\n",
              "<style>\n",
              "  .colab-df-quickchart {\n",
              "    background-color: #E8F0FE;\n",
              "    border: none;\n",
              "    border-radius: 50%;\n",
              "    cursor: pointer;\n",
              "    display: none;\n",
              "    fill: #1967D2;\n",
              "    height: 32px;\n",
              "    padding: 0 0 0 0;\n",
              "    width: 32px;\n",
              "  }\n",
              "\n",
              "  .colab-df-quickchart:hover {\n",
              "    background-color: #E2EBFA;\n",
              "    box-shadow: 0px 1px 2px rgba(60, 64, 67, 0.3), 0px 1px 3px 1px rgba(60, 64, 67, 0.15);\n",
              "    fill: #174EA6;\n",
              "  }\n",
              "\n",
              "  [theme=dark] .colab-df-quickchart {\n",
              "    background-color: #3B4455;\n",
              "    fill: #D2E3FC;\n",
              "  }\n",
              "\n",
              "  [theme=dark] .colab-df-quickchart:hover {\n",
              "    background-color: #434B5C;\n",
              "    box-shadow: 0px 1px 3px 1px rgba(0, 0, 0, 0.15);\n",
              "    filter: drop-shadow(0px 1px 2px rgba(0, 0, 0, 0.3));\n",
              "    fill: #FFFFFF;\n",
              "  }\n",
              "</style>\n",
              "\n",
              "    <script>\n",
              "      async function quickchart(key) {\n",
              "        const containerElement = document.querySelector('#' + key);\n",
              "        const charts = await google.colab.kernel.invokeFunction(\n",
              "            'suggestCharts', [key], {});\n",
              "      }\n",
              "    </script>\n",
              "\n",
              "      <script>\n",
              "\n",
              "function displayQuickchartButton(domScope) {\n",
              "  let quickchartButtonEl =\n",
              "    domScope.querySelector('#df-2c7caeb3-e313-489e-93dc-446450219a89 button.colab-df-quickchart');\n",
              "  quickchartButtonEl.style.display =\n",
              "    google.colab.kernel.accessAllowed ? 'block' : 'none';\n",
              "}\n",
              "\n",
              "        displayQuickchartButton(document);\n",
              "      </script>\n",
              "      <style>\n",
              "    .colab-df-container {\n",
              "      display:flex;\n",
              "      flex-wrap:wrap;\n",
              "      gap: 12px;\n",
              "    }\n",
              "\n",
              "    .colab-df-convert {\n",
              "      background-color: #E8F0FE;\n",
              "      border: none;\n",
              "      border-radius: 50%;\n",
              "      cursor: pointer;\n",
              "      display: none;\n",
              "      fill: #1967D2;\n",
              "      height: 32px;\n",
              "      padding: 0 0 0 0;\n",
              "      width: 32px;\n",
              "    }\n",
              "\n",
              "    .colab-df-convert:hover {\n",
              "      background-color: #E2EBFA;\n",
              "      box-shadow: 0px 1px 2px rgba(60, 64, 67, 0.3), 0px 1px 3px 1px rgba(60, 64, 67, 0.15);\n",
              "      fill: #174EA6;\n",
              "    }\n",
              "\n",
              "    [theme=dark] .colab-df-convert {\n",
              "      background-color: #3B4455;\n",
              "      fill: #D2E3FC;\n",
              "    }\n",
              "\n",
              "    [theme=dark] .colab-df-convert:hover {\n",
              "      background-color: #434B5C;\n",
              "      box-shadow: 0px 1px 3px 1px rgba(0, 0, 0, 0.15);\n",
              "      filter: drop-shadow(0px 1px 2px rgba(0, 0, 0, 0.3));\n",
              "      fill: #FFFFFF;\n",
              "    }\n",
              "  </style>\n",
              "\n",
              "      <script>\n",
              "        const buttonEl =\n",
              "          document.querySelector('#df-fa0cc901-b109-44c0-8502-deb3dc6ef6b9 button.colab-df-convert');\n",
              "        buttonEl.style.display =\n",
              "          google.colab.kernel.accessAllowed ? 'block' : 'none';\n",
              "\n",
              "        async function convertToInteractive(key) {\n",
              "          const element = document.querySelector('#df-fa0cc901-b109-44c0-8502-deb3dc6ef6b9');\n",
              "          const dataTable =\n",
              "            await google.colab.kernel.invokeFunction('convertToInteractive',\n",
              "                                                     [key], {});\n",
              "          if (!dataTable) return;\n",
              "\n",
              "          const docLinkHtml = 'Like what you see? Visit the ' +\n",
              "            '<a target=\"_blank\" href=https://colab.research.google.com/notebooks/data_table.ipynb>data table notebook</a>'\n",
              "            + ' to learn more about interactive tables.';\n",
              "          element.innerHTML = '';\n",
              "          dataTable['output_type'] = 'display_data';\n",
              "          await google.colab.output.renderOutput(dataTable, element);\n",
              "          const docLink = document.createElement('div');\n",
              "          docLink.innerHTML = docLinkHtml;\n",
              "          element.appendChild(docLink);\n",
              "        }\n",
              "      </script>\n",
              "    </div>\n",
              "  </div>\n"
            ]
          },
          "metadata": {},
          "execution_count": 64
        }
      ]
    },
    {
      "cell_type": "code",
      "source": [
        "df.hist()"
      ],
      "metadata": {
        "colab": {
          "base_uri": "https://localhost:8080/",
          "height": 469
        },
        "id": "KFh66fM21jTe",
        "outputId": "b910903e-e145-454c-8a1d-3127056e0698"
      },
      "execution_count": 65,
      "outputs": [
        {
          "output_type": "execute_result",
          "data": {
            "text/plain": [
              "array([[<Axes: title={'center': 'sentiment'}>]], dtype=object)"
            ]
          },
          "metadata": {},
          "execution_count": 65
        },
        {
          "output_type": "display_data",
          "data": {
            "text/plain": [
              "<Figure size 640x480 with 1 Axes>"
            ],
            "image/png": "[encoded data removed]"
          },
          "metadata": {}
        }
      ]
    },
    {
      "cell_type": "code",
      "source": [
        "df[\"sentiment\"].mean()"
      ],
      "metadata": {
        "colab": {
          "base_uri": "https://localhost:8080/"
        },
        "id": "PYJrmDdE1w6P",
        "outputId": "42fe762e-dcc4-464d-da8e-7585f23932fd"
      },
      "execution_count": 67,
      "outputs": [
        {
          "output_type": "execute_result",
          "data": {
            "text/plain": [
              "3.6"
            ]
          },
          "metadata": {},
          "execution_count": 67
        }
      ]
    }
  ]
}